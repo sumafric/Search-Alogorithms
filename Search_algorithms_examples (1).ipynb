{
 "cells": [
  {
   "cell_type": "markdown",
   "metadata": {
    "id": "Ee-v8I_P8rfp"
   },
   "source": [
    "\n",
    "![alt_text](https://github.com/Explore-AI/Pictures/blob/master/Python-Notebook-Banners/Examples.png?raw=true \"Example banner\")\n",
    "\n",
    "\n",
    "# Examples: Search Algorithms\n",
    "© ExploreAI Academy\n",
    "\n",
    "In this train, we will cover a variety of search algorithms, including binary and linear search, as well as their implementation and complexity.\n"
   ]
  },
  {
   "cell_type": "markdown",
   "metadata": {
    "id": "ITqrvAqq8xSC"
   },
   "source": [
    "## Learning objectives\n",
    "\n",
    "By the end of this train, you should be able to:\n",
    "\n",
    "* Understand the concepts of search algorithms and their complexity.\n",
    "* Create pseudocode for linear and binary search algorithms.\n",
    "\n",
    "\n"
   ]
  },
  {
   "cell_type": "markdown",
   "metadata": {
    "id": "3kMHrgpo9EG8"
   },
   "source": [
    "## Searching in Python\n",
    "\n",
    "Often, we need to determine if a particular character, string, or number is present within a data structure.\n",
    "\n",
    "Python provides us with two built-in methods to determine if a particular string contains the searched string - `find()` and `RegEx`. We have mathematical operators such as `in` and **lambda functions** to determine if a number is in a list. However, if the data structure is large or the search use case is more complex, we would need searching algorithms with greater flexibility and efficiency.\n",
    "\n",
    "In this train we will only discuss **linear** and **binary** search algorithms, however, many other techniques and variations can be used, such as **exponential (binary) search**, **fibonacci search**, and **jump search**."
   ]
  },
  {
   "cell_type": "markdown",
   "metadata": {},
   "source": [
    "## Linear search\n",
    "\n",
    "One of the simplest search algorithms is *linear search*. The algorithm begins at one end of the list (or data structure) and checks each element until it finds the correct element or it reaches the end of the list. We can think of a linear search algorithm as an enhanced implementation of the Python `in` operator.\n",
    "\n",
    "Essentially, the linear search algorithm iterates over the list and returns the index of the first occurrence of the searched element when it is found. If there is more than one occurrence of the searched element, a basic linear search function will only return the index of the first occurrence because the other occurrences are not even considered. In other words, the algorithm terminates when it finds an occurrence of the searched element.\n",
    "\n",
    "In the first example below, we see a list `[11, 2, 26, 18, 23]` in which we are searching for an element with the value `[18]`. We step through the first three elements before finding the first occurrence of the searched item, at which time the function will return the index and terminate. \n",
    "\n",
    "In the second example, we see a list with a duplicate value `[11, 2, 2, 18, 23]` in which we are searching for `[2]`. We only need to step through the first element to find the first occurrence of the searched item, and then return and terminate. The second `[2]` and any other elements to the right of the found element are not even considered."
   ]
  },
  {
   "cell_type": "markdown",
   "metadata": {},
   "source": [
    "<div align=\"center\" style=\" text-align: center; margin: 0 auto\">\n",
    "<img src=\"https://github.com/Explore-AI/Pictures/blob/4ab230a66faa24d1d1f78148624e2565fb4ba407/linear_search.jpg?raw=True\"\n",
    "     alt=\"Linear search\"\n",
    "     style=\"padding-bottom=0.5em\"\n",
    "     width=400px/>\n",
    "     <br>\n",
    "     <em> Figure 2. Visualisation of a basic linear search algorithm of a list of integers. </em>\n",
    "</div>"
   ]
  },
  {
   "cell_type": "markdown",
   "metadata": {},
   "source": [
    "Let's write some pseudocode to carry out this algorithm.\n",
    "\n",
    "```python\n",
    "# Pseudocode\n",
    "procedure linear_search( list, target )\n",
    "    for each element in the list\n",
    "        if the element equals the target\n",
    "            return its index\n",
    "\n",
    "    return not found\n",
    "end procedure\n",
    "```"
   ]
  },
  {
   "cell_type": "markdown",
   "metadata": {},
   "source": [
    "\n",
    "The provided pseudocode defines a procedure named `linear_search` for conducting a linear search on a given list. This search algorithm **iterates through each element** in the list using a `for loop`. Within this loop, an if statement checks whether the **current element is equal to the target element** that the search is trying to locate. If a match is found, the procedure promptly **returns the index** of the identified element. In the event that the entire list is traversed without finding the target element, the procedure concludes by **returning a signal denoting that the element was not found** in the list. \n",
    "\n",
    "In summary, this pseudocode encapsulates a straightforward linear search algorithm, sequentially inspecting each element in the list until it either locates the target element or determines its absence."
   ]
  },
  {
   "cell_type": "markdown",
   "metadata": {},
   "source": [
    "### Time complexity\n",
    "\n",
    "Consider the first list in the figure above, `[11, 2, 26, 18, 23]`, but now we want to find `[23]`, which is the last element in the list. The algorithm would have to iterate through every element until the last one before returning something, which is equal to the number of elements in the list. Similarly, if the value we would like to find is not included in the list, we would still have to iterate as many times as there are elements in the list.\n",
    "\n",
    "So, we can conclude that the highest overall level of either *average* or *worst-case time complexity* is *linear time*, $O(n)$, because as the input size $n$ increases, the algorithm run-time scales with the input size. The *best-case time complexity* is then *constant time*, $O(1)$, when the searched item is the first element in the list.\n",
    "\n",
    "As a result, linear search is not used often because the same efficiency may be achieved with Python's built-in search techniques. However, a linear search algorithm is useful to find the first occurrence of an element in an **unsorted collection**, unlike most other search algorithms that can only be applied to sorted collections."
   ]
  },
  {
   "cell_type": "markdown",
   "metadata": {},
   "source": [
    "## Binary search\n",
    "\n",
    "A *binary search* algorithm applies a divide-and-conquer strategy. The algorithm **recursively or iteratively halves the list** (or data structure) to narrow the search. So, with each additional divide, we have half the number of elements to search through for the target element. However, this means that the input list **must be sorted** for a binary search technique to work efficiently.\n",
    "\n",
    "The number of elements in the list, the location of the target element, and the number of iterations required to find the target value may differ depending on whether an iterative or recursive approach is used. \n",
    "\n",
    "Consider the below sorted list: \n",
    "\n",
    "`[1, 2, 3, 4, 5, 6, 7, 8]`\n",
    "\n",
    "We want to find the index of `[7]` (the target value).\n",
    "\n",
    "#### Recursive implementation\n",
    "\n",
    "In a recursive implementation, say `binary_search_recur(items, target)`, the first recursion would have `[5]` at index 4 as the *midpoint*.\n",
    "\n",
    " i.e `len(items)//2` $= 8//2 = 4$. \n",
    " \n",
    " Since this midpoint is smaller than the target, we only consider the right side (including the midpoint) of the input list on the second recursion `binary_search_recur(items[mid:], target)`. However, the indexes have now changed because the recursive function only \"sees\" the right half of the input list. To find the correct index relating to the initial input list, we need to add the resulting index from the second recursion to the midpoint index.\n",
    "\n",
    "#### Iterative implementation\n",
    "\n",
    "In an *iterative implementation*, say `binary_search_iter(items, target)`, the first iteration would have `[4]` as the midpoint because we initialise the start and end values rather than the number of items to calculate its index: \n",
    "\n",
    "$\\textbf{midpoint} = (\\text{start} + \\text{end})//2$\n",
    "\n",
    "$\\textbf{midpoint} = (0 + (\\text{len(items)} - 1))//2$\n",
    "\n",
    "$\\textbf{midpoint} = (0 + (8 - 1))//2$ \n",
    "\n",
    "$\\textbf{midpoint} = 7//2$\n",
    "\n",
    "$\\textbf{midpoint} = 3$.\n",
    "\n",
    "\n",
    "Since this midpoint is not equal to and smaller than the target value of `[7]`, the new start value is at index 4, the midpoint at index 5, and the end value at index 7. Again, as the midpoint is not equal to and still smaller than the target value, the new start value is at index 6, the midpoint is also at index 6, and the end value at index 7. Since the midpoint is now equal to the target value, we can return and terminate.\n",
    "\n",
    "So, for the same list and target value, the recursive implementation had to divide twice, while the iterative implementation had to divide three times. Considering the same list but changing the target value to `[2]` results in three recursions but only two iterations, as observed in the figure below.\n",
    "\n",
    "<div align=\"center\" style=\" text-align: center; margin: 0 auto\">\n",
    "<img src=\"https://github.com/Explore-AI/Pictures/blob/6c10e7a981ee4874057785e4ef038eaea1f3da3b/binary_search.jpg?raw=True\"\n",
    "     alt=\"Binary search\"\n",
    "     style=\"padding-bottom=0.5em\"\n",
    "     width=700px/>\n",
    "     <br>\n",
    "     <em>Figure 3. Visualisation of recursive and iterative binary search algorithms of a list of integers. </em>\n",
    "</div>"
   ]
  },
  {
   "cell_type": "markdown",
   "metadata": {},
   "source": [
    "Let's take a look at the pseudocode for the recursive implementation.\n",
    "\n",
    "```python\n",
    "# Pseudocode\n",
    "procedure binary_search_recur( list items, target )\n",
    "\n",
    "    find the midpoint of items\n",
    "\n",
    "    if length of items == 1 then\n",
    "        return midpoint if midpoint is equal to the target value, otherwise return False\n",
    "    else if midpoint item == target\n",
    "        return midpoint\n",
    "    else\n",
    "        # Recursively divide the sublists further.\n",
    "        if midpoint item < target\n",
    "            call binary_search_recur on right side sublist and target value\n",
    "            return midpoint + call if the call is not False, otherwise return False\n",
    "        else\n",
    "            return call binary_search_recur on left side sublist and target value\n",
    "end procedure\n",
    "```"
   ]
  },
  {
   "cell_type": "markdown",
   "metadata": {},
   "source": [
    "Recursion in Python is generally slower than iteration because we allocate additional memory. Here is the iterative binary search pseudocode.\n",
    "\n",
    "```python\n",
    "# Pseudocode\n",
    "procedure binary_search_iter( list items, target )\n",
    "\n",
    "    initialise start value as zero\n",
    "    initialise end value as length(items) - 1\n",
    "\n",
    "    while start value <= end value then continue\n",
    "        mid value = (start + end) divided by 2 (floor division)\n",
    "\n",
    "        if target == mid item then\n",
    "            return mid value\n",
    "        \n",
    "        if target < mid item then\n",
    "            end = mid - 1\n",
    "        else then\n",
    "            start = mid + 1\n",
    "\n",
    "    return when not found as False    \n",
    "end procedure\n",
    "```"
   ]
  },
  {
   "cell_type": "markdown",
   "metadata": {},
   "source": [
    "The procedure begins by determining the **midpoint** of the given sorted list (`items`). It then checks if the length of the sublist is equal to 1, indicating a single-element list. In such a case, it **compares the midpoint to the target value**. If they match, the procedure returns the midpoint; otherwise, it returns False. If the length is greater than 1 and the midpoint element matches the target, the procedure directly returns the midpoint.\n",
    "\n",
    "For sublists with a **length greater than 1**, the algorithm recursively divides the list further. **If the midpoint element is less than the target**, it calls `binary_search_recur` on the right side sublist and the target value. **If the result of this recursive call is not False**, it returns the sum of the midpoint and the recursive call; otherwise, it returns False. Conversely, **if the midpoint element is greater than or equal to the target**, the procedure recursively calls `binary_search_recur` on the left side sublist and the target value.\n",
    "\n",
    "In summary, this pseudocode defines a recursive binary search algorithm that efficiently narrows down the search space by repeatedly dividing the sorted list until the target value is found or it is determined that the target is not present in the list. The use of recursion facilitates a systematic exploration of the sublist, making the search process more efficient."
   ]
  },
  {
   "cell_type": "markdown",
   "metadata": {},
   "source": [
    "### Time complexity\n",
    "\n",
    "A binary search algorithm reduces the input size in each step by halving it, so the required effort decreases with each division. Consider this example where the input list is between 1 and 8, with a target value `[7]` in an iterative binary search implementation:\n",
    "\n",
    "$[1, 2, 3, 4, 5, 6, 7, 8]: n = 8$\n",
    "\n",
    "$[5, 6, 7, 8]: 4 = n/2$\n",
    "\n",
    "$[7, 8]: 2 = (n/2)2$\n",
    "\n",
    "So the total effort required is:\n",
    "\n",
    "$n + n/2 + (n/2)2 = n/2^0 + n/2^1 + n/2^2.$\n",
    "\n",
    "Similarly, if we increase the list size:\n",
    "\n",
    "$[1, 2, 3, 4, 5, 6, 7, 8, 9, 10, 11, 12, 13, 14, 15, 16, 17, 18, 19, 20]: n = 20$\n",
    "\n",
    "$[11, 12, 13, 14, 15, 16, 17, 18, 19, 20]:10 = n/2$\n",
    "\n",
    "$[11, 12, 13, 14]: 4 \\approx (n/2)/2$\n",
    "\n",
    "$[13, 14]: 2 \\approx ((n/2)/2)/2$\n",
    "\n",
    "Now, the total effort is:\n",
    "\n",
    "$n + n/2 + (n/2)/2 + ((n/2)/2)/2 \\approx n/2^0 + n/2^1 + n/2^2 + n/2^3.$\n",
    "\n",
    "From these two examples, we can deduce that a list with a number of elements equal to $n$ will have in the *worst-case* $k$ iterations so that the length of the list is equal to $n/2^x$. We also know that after $k$ divisions the list will only have one element:\n",
    "\n",
    "length of list $= n/2^x = 1,$\n",
    "\n",
    "$n = 2^x.$\n",
    "\n",
    "We can apply the $\\log$ to each side:\n",
    "\n",
    "$\\log_2(n) = \\log_2(2x),$\n",
    "\n",
    "$\\log_2(n) = x \\log_2(2).$\n",
    "\n",
    "Since $\\log_a(a) = 1$:\n",
    "\n",
    "$\\log_2(n) = x \\times 1.$\n",
    "\n",
    "So, we can say that the *average* and *worst-case time complexity* is $\\log_2(n)$, which is *logarithmic time*, and the overall highest level of complexity is $O(\\log n)$. Although the divisions were based on an iterative approach, the same applies to recursive binary search techniques which have an *average* and *worst-case time complexity* as $\\log_2(n)$. Naturally, if the target value is equal to the midpoint on either the first recursion or iteration, we have a *best-case time complexity* of $O(1)$, *constant time complexity*. "
   ]
  },
  {
   "cell_type": "markdown",
   "metadata": {},
   "source": [
    "## Linear vs. Binary \n",
    "\n",
    "Now that we have worked through the two search algorithms, it is time to visualise some of the complexities that we referred to in the sections above. To visualise the time complexities of the algorithms, we will conduct a simple experiment to obtain empirical evidence of the claimed complexities. In the experiment, we will generate lists of varying lengths and observe the time it takes to locate an element within the list.\n",
    "\n",
    "The experiment takes the following form: \n",
    "\n",
    "For each sorting algorithm:\n",
    "   1. Generate a random list of integers. The size of the list varies.\n",
    "   2. For each list size, execute the sorting algorithm multiple times to obtain an average execution time.\n",
    "   3. Store the execution times in a list so we can plot the results.\n",
    "   \n",
    "To run the described experiments, make sure that you download the following files from the public academy repo and place them in your current working directory: \n",
    "\n",
    "* Compiled Python file that will call the appropriate algorithms: [algorithms.py](https://github.com/Explore-AI/Public-Data/blob/master/algorithms.py)\n",
    "* Python script that contains code to facilitate the above experiment: [search_time_complexity.py](https://github.com/Explore-AI/Public-Data/blob/master/search_time_complexity.py)\n",
    "* Note: If you get any package errors, remember to check that they've been successfully installed in your environment. \n"
   ]
  },
  {
   "cell_type": "markdown",
   "metadata": {},
   "source": [
    "Run the following code after downloading the required files."
   ]
  },
  {
   "cell_type": "code",
   "execution_count": 1,
   "metadata": {},
   "outputs": [
    {
     "name": "stderr",
     "output_type": "stream",
     "text": [
      "Experiment Progress (Linear Search): 100%|██████████| 11/11 [00:00<00:00, 11.38it/s]\n",
      "Experiment Progress (Binary Search): 100%|██████████| 11/11 [00:00<00:00, 51.27it/s]\n"
     ]
    }
   ],
   "source": [
    "import search_time_complexity as tc\n",
    "import matplotlib.pyplot as plt\n",
    "import algorithms as alg\n",
    "\n",
    "#=================================================================================================\n",
    "# Initialise a list to reference the appropriate algorithm.\n",
    "# Initialise a dictionary to store the experimental results.\n",
    "#=================================================================================================\n",
    "\n",
    "search_algorithm = ['Linear Search','Binary Search']\n",
    "table_of_results = {'Linear Search':{},'Binary Search':{}}\n",
    "#=================================================================================================\n",
    "# We make use of the functions found in the search_time_complexity package to generate experimental \n",
    "# results that will be used for plotting the graphs.\n",
    "#=================================================================================================\n",
    "\n",
    "def generate_experiment_results(search_algorithm,table_of_results,STEP=1000, REPS_PER_ARR=1000, MAX_ARR_LEN=10000):\n",
    "    if search_algorithm == 'Linear Search':\n",
    "        exec_times, len_of_arrays = tc.run_experiment(alg.linear_search,search_algorithm,STEP,REPS_PER_ARR,MAX_ARR_LEN)\n",
    "    elif search_algorithm == 'Binary Search':\n",
    "        exec_times, len_of_arrays = tc.run_experiment(alg.binary_search,search_algorithm,STEP,REPS_PER_ARR,MAX_ARR_LEN)\n",
    "\n",
    "    table_of_results[search_algorithm]['exec_times'] = exec_times\n",
    "    table_of_results[search_algorithm]['len_of_arrays'] = len_of_arrays\n",
    "    return table_of_results\n",
    "\n",
    "#=================================================================================================\n",
    "# Execute the function defined above to populate the dictionary with experimental results.\n",
    "#=================================================================================================\n",
    "table_of_results = generate_experiment_results('Linear Search',table_of_results)\n",
    "table_of_results = generate_experiment_results('Binary Search',table_of_results)"
   ]
  },
  {
   "cell_type": "code",
   "execution_count": 2,
   "metadata": {},
   "outputs": [
    {
     "data": {
      "text/plain": [
       "<matplotlib.legend.Legend at 0x25d38533950>"
      ]
     },
     "execution_count": 2,
     "metadata": {},
     "output_type": "execute_result"
    },
    {
     "data": {
      "image/png": "[encoded data removed]",
      "text/plain": [
       "<Figure size 900x600 with 1 Axes>"
      ]
     },
     "metadata": {},
     "output_type": "display_data"
    }
   ],
   "source": [
    "#=================================================================================================\n",
    "# Use the populated dictionary to plot the time complexities associated with each search\n",
    "# algorithm.\n",
    "#=================================================================================================\n",
    "plt.rcParams['figure.figsize'] = (9, 6)\n",
    "plt.plot(table_of_results['Linear Search']['exec_times'],table_of_results['Linear Search']['len_of_arrays'])\n",
    "plt.plot(table_of_results['Binary Search']['exec_times'],table_of_results['Binary Search']['len_of_arrays'])\n",
    "plt.ylabel('Execution Time (sec)')\n",
    "plt.xlabel('Length of list')\n",
    "plt.title('Time complexity')\n",
    "plt.legend(search_algorithm)"
   ]
  },
  {
   "cell_type": "markdown",
   "metadata": {},
   "source": [
    "The time complexity graphs generated from the two search algorithms highlight the stark difference in compute times, with binary search clearly showing to be more efficient than your normal linear search. Since the binary search is logarithmic ($O(\\log n)$) in nature, it is important to notice that as the size of the list doubles, the time taken to find an element only increases by a fraction. This is because after doubling the size of the list, the algorithm will only take one additional iteration to find the required element. \n",
    "\n",
    "As much as the binary search performs better than the linear search, the order of the items in the list is what makes the method efficient. Given a list in random order, it would be futile to try and perform a binary search on the list. However, the linear search does not require the items to be in any order, seeing as it will sequentially sweep through the entire list, so it is always guaranteed to find the element in linear time ($O(n)$). This is the one major advantage that linear search has over its binary counterpart."
   ]
  },
  {
   "cell_type": "markdown",
   "metadata": {},
   "source": [
    "<div align=\"center\" style=\" font-size: 80%; text-align: center; margin: 0 auto\">\n",
    "<img src=\"https://raw.githubusercontent.com/Explore-AI/Pictures/master/ExploreAI_logos/EAI_Blue_Dark.png\"  style=\"width:200px\";/>\n",
    "</div>"
   ]
  }
 ],
 "metadata": {
  "colab": {
   "authorship_tag": "ABX9TyPZFCZhaikX+N2/Bg7W6SY+",
   "collapsed_sections": [],
   "name": "Search_algorithms.ipynb",
   "provenance": [],
   "toc_visible": true
  },
  "interpreter": {
   "hash": "6b5ebbc2c6bde2831bc6c0426f75aca8137ccfc69d329557556ed73faee126ae"
  },
  "kernelspec": {
   "display_name": "Python 3",
   "language": "python",
   "name": "python3"
  },
  "language_info": {
   "codemirror_mode": {
    "name": "ipython",
    "version": 3
   },
   "file_extension": ".py",
   "mimetype": "text/x-python",
   "name": "python",
   "nbconvert_exporter": "python",
   "pygments_lexer": "ipython3",
   "version": "3.12.6"
  }
 },
 "nbformat": 4,
 "nbformat_minor": 2
}
